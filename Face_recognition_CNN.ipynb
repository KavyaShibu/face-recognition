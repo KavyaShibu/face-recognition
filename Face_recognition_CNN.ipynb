{
 "cells": [
  {
   "cell_type": "code",
   "execution_count": 1,
   "id": "32d21cd9",
   "metadata": {},
   "outputs": [],
   "source": [
    "# Project on Face Recognition\n"
   ]
  },
  {
   "cell_type": "code",
   "execution_count": 1,
   "id": "56063d87",
   "metadata": {},
   "outputs": [],
   "source": [
    "# Specifying the folder where images are present\n",
    "TrainingImagePath=\"C:/Users/HP/Desktop/IMARTICUS/DL/FR/Train\"\n",
    "validationImagePath = \"C:/Users/HP/Desktop/IMARTICUS/DL/FR/Validation\""
   ]
  },
  {
   "cell_type": "code",
   "execution_count": 2,
   "id": "c6201c86",
   "metadata": {},
   "outputs": [],
   "source": [
    "from keras.preprocessing.image import ImageDataGenerator"
   ]
  },
  {
   "cell_type": "code",
   "execution_count": 3,
   "id": "66bb4b1a",
   "metadata": {},
   "outputs": [],
   "source": [
    "#____________base model\n",
    "train_datagen = ImageDataGenerator(rescale=1./225)\n",
    " \n",
    "test_datagen = ImageDataGenerator(rescale=1./225)\n",
    " "
   ]
  },
  {
   "cell_type": "code",
   "execution_count": 4,
   "id": "510066da",
   "metadata": {},
   "outputs": [
    {
     "name": "stdout",
     "output_type": "stream",
     "text": [
      "Found 139 images belonging to 11 classes.\n"
     ]
    }
   ],
   "source": [
    "# Generating the Training Data\n",
    "training_set = train_datagen.flow_from_directory(TrainingImagePath,\n",
    "                                                 target_size=(64, 64),\n",
    "                                                 batch_size=20,\n",
    "                                                 class_mode='categorical')"
   ]
  },
  {
   "cell_type": "code",
   "execution_count": 7,
   "id": "dd8e624e",
   "metadata": {},
   "outputs": [
    {
     "name": "stdout",
     "output_type": "stream",
     "text": [
      "Found 59 images belonging to 11 classes.\n"
     ]
    }
   ],
   "source": [
    "# Generating the Validation Data\n",
    "validation_set = test_datagen.flow_from_directory(validationImagePath,\n",
    "                                                  target_size=(64, 64),\n",
    "                                                  batch_size=20,\n",
    "                                                  class_mode='categorical')"
   ]
  },
  {
   "cell_type": "code",
   "execution_count": 8,
   "id": "d0193730",
   "metadata": {},
   "outputs": [],
   "source": [
    "##libraries & model\n",
    "#'''______________________Create CNN deep learning model'''\n",
    "\n",
    "from keras.models import Sequential\n",
    "from keras.layers import Convolution2D\n",
    "from keras.layers import MaxPool2D\n",
    "from keras.layers import Flatten\n",
    "from keras.layers import Dense"
   ]
  },
  {
   "cell_type": "code",
   "execution_count": 10,
   "id": "cb97c9c7",
   "metadata": {},
   "outputs": [],
   "source": [
    "#'''Initializing the Convolutional Neural Network'''\n",
    "classifier= Sequential()\n",
    " "
   ]
  },
  {
   "cell_type": "code",
   "execution_count": 12,
   "id": "ca146aab",
   "metadata": {},
   "outputs": [],
   "source": [
    "#model\n",
    "# ''' STEP--1 Convolution\n",
    "# Adding the first layer of CNN\n",
    "# we are using the format (64,64,3) because we are using TensorFlow backend\n",
    "# It means 3 matrix of size (64X64) pixels representing Red,\n",
    "# Green and Blue components of pixels\n",
    "classifier.add(Convolution2D(32, kernel_size=(3, 3),\n",
    "                             input_shape=(64,64,3), activation='relu'))"
   ]
  },
  {
   "cell_type": "code",
   "execution_count": 13,
   "id": "a20dc332",
   "metadata": {},
   "outputs": [],
   "source": [
    "#'''# STEP--2 MAX Pooling'''\n",
    "classifier.add(MaxPool2D(pool_size=(2,2)))\n",
    "#'''________________ ADDITIONAL LAYER of CONVOLUTION for better accuracy '''\n",
    "classifier.add(Convolution2D(64, kernel_size=(3, 3), activation='relu'))\n",
    " \n",
    "classifier.add(MaxPool2D(pool_size=(2,2)))\n",
    "#'''________________ ADDITIONAL LAYER of CONVOLUTION for better accuracy '''\n",
    "classifier.add(Convolution2D(64, kernel_size=(3, 3), activation='relu')) "
   ]
  },
  {
   "cell_type": "code",
   "execution_count": 14,
   "id": "f03cd6f0",
   "metadata": {},
   "outputs": [],
   "source": [
    "'''# STEP--3 FLattening'''\n",
    "classifier.add(Flatten()) "
   ]
  },
  {
   "cell_type": "code",
   "execution_count": 15,
   "id": "646cbc96",
   "metadata": {},
   "outputs": [
    {
     "name": "stdout",
     "output_type": "stream",
     "text": [
      "Model: \"sequential_1\"\n",
      "_________________________________________________________________\n",
      " Layer (type)                Output Shape              Param #   \n",
      "=================================================================\n",
      " conv2d (Conv2D)             (None, 62, 62, 32)        896       \n",
      "                                                                 \n",
      " max_pooling2d (MaxPooling2D  (None, 31, 31, 32)       0         \n",
      " )                                                               \n",
      "                                                                 \n",
      " conv2d_1 (Conv2D)           (None, 29, 29, 64)        18496     \n",
      "                                                                 \n",
      " max_pooling2d_1 (MaxPooling  (None, 14, 14, 64)       0         \n",
      " 2D)                                                             \n",
      "                                                                 \n",
      " conv2d_2 (Conv2D)           (None, 12, 12, 64)        36928     \n",
      "                                                                 \n",
      " flatten (Flatten)           (None, 9216)              0         \n",
      "                                                                 \n",
      " dense (Dense)               (None, 64)                589888    \n",
      "                                                                 \n",
      " dense_1 (Dense)             (None, 11)                715       \n",
      "                                                                 \n",
      "=================================================================\n",
      "Total params: 646,923\n",
      "Trainable params: 646,923\n",
      "Non-trainable params: 0\n",
      "_________________________________________________________________\n"
     ]
    }
   ],
   "source": [
    "'''# STEP--4 Fully Connected Neural Network'''\n",
    "classifier.add(Dense(64, activation='relu'))\n",
    "classifier.add(Dense(11, activation='softmax'))\n",
    "classifier.summary()"
   ]
  },
  {
   "cell_type": "code",
   "execution_count": 16,
   "id": "8e872619",
   "metadata": {},
   "outputs": [],
   "source": [
    "'''Compiling the CNN'''\n",
    "\n",
    "classifier.compile(loss='categorical_crossentropy', \n",
    "                   optimizer = 'adam', metrics=[\"accuracy\"])\n",
    " "
   ]
  },
  {
   "cell_type": "code",
   "execution_count": 17,
   "id": "0b565c7a",
   "metadata": {},
   "outputs": [
    {
     "name": "stderr",
     "output_type": "stream",
     "text": [
      "C:\\Users\\HP\\AppData\\Local\\Temp\\ipykernel_9688\\174919611.py:2: UserWarning: `Model.fit_generator` is deprecated and will be removed in a future version. Please use `Model.fit`, which supports generators.\n",
      "  history = classifier.fit_generator(training_set, epochs=20,\n"
     ]
    },
    {
     "name": "stdout",
     "output_type": "stream",
     "text": [
      "Epoch 1/20\n",
      "7/7 [==============================] - 6s 664ms/step - loss: 2.4333 - accuracy: 0.0791 - val_loss: 2.3422 - val_accuracy: 0.1525\n",
      "Epoch 2/20\n",
      "7/7 [==============================] - 3s 421ms/step - loss: 2.3164 - accuracy: 0.1439 - val_loss: 2.2838 - val_accuracy: 0.1525\n",
      "Epoch 3/20\n",
      "7/7 [==============================] - 3s 419ms/step - loss: 2.2657 - accuracy: 0.1511 - val_loss: 2.2466 - val_accuracy: 0.1695\n",
      "Epoch 4/20\n",
      "7/7 [==============================] - 3s 468ms/step - loss: 2.1708 - accuracy: 0.1942 - val_loss: 2.1787 - val_accuracy: 0.1695\n",
      "Epoch 5/20\n",
      "7/7 [==============================] - 3s 477ms/step - loss: 1.9857 - accuracy: 0.2806 - val_loss: 2.1426 - val_accuracy: 0.2203\n",
      "Epoch 6/20\n",
      "7/7 [==============================] - 3s 397ms/step - loss: 1.7867 - accuracy: 0.3813 - val_loss: 2.0314 - val_accuracy: 0.2542\n",
      "Epoch 7/20\n",
      "7/7 [==============================] - 3s 440ms/step - loss: 1.4328 - accuracy: 0.5108 - val_loss: 2.0056 - val_accuracy: 0.3220\n",
      "Epoch 8/20\n",
      "7/7 [==============================] - 3s 421ms/step - loss: 1.1913 - accuracy: 0.5612 - val_loss: 1.8331 - val_accuracy: 0.4407\n",
      "Epoch 9/20\n",
      "7/7 [==============================] - 3s 428ms/step - loss: 0.8945 - accuracy: 0.7554 - val_loss: 1.6946 - val_accuracy: 0.4407\n",
      "Epoch 10/20\n",
      "7/7 [==============================] - 3s 427ms/step - loss: 0.5616 - accuracy: 0.8417 - val_loss: 1.9921 - val_accuracy: 0.4576\n",
      "Epoch 11/20\n",
      "7/7 [==============================] - 3s 433ms/step - loss: 0.3880 - accuracy: 0.8849 - val_loss: 2.0468 - val_accuracy: 0.4746\n",
      "Epoch 12/20\n",
      "7/7 [==============================] - 3s 426ms/step - loss: 0.2925 - accuracy: 0.9209 - val_loss: 1.8580 - val_accuracy: 0.5593\n",
      "Epoch 13/20\n",
      "7/7 [==============================] - 3s 419ms/step - loss: 0.1974 - accuracy: 0.9424 - val_loss: 2.2939 - val_accuracy: 0.4576\n",
      "Epoch 14/20\n",
      "7/7 [==============================] - 3s 464ms/step - loss: 0.1323 - accuracy: 0.9712 - val_loss: 2.3747 - val_accuracy: 0.4915\n",
      "Epoch 15/20\n",
      "7/7 [==============================] - 3s 434ms/step - loss: 0.1248 - accuracy: 0.9712 - val_loss: 2.5409 - val_accuracy: 0.5763\n",
      "Epoch 16/20\n",
      "7/7 [==============================] - 3s 427ms/step - loss: 0.0510 - accuracy: 1.0000 - val_loss: 2.3917 - val_accuracy: 0.5085\n",
      "Epoch 17/20\n",
      "7/7 [==============================] - 3s 427ms/step - loss: 0.1034 - accuracy: 0.9568 - val_loss: 2.3282 - val_accuracy: 0.5254\n",
      "Epoch 18/20\n",
      "7/7 [==============================] - 3s 421ms/step - loss: 0.0777 - accuracy: 0.9784 - val_loss: 2.1493 - val_accuracy: 0.5424\n",
      "Epoch 19/20\n",
      "7/7 [==============================] - 3s 433ms/step - loss: 0.0287 - accuracy: 1.0000 - val_loss: 2.6323 - val_accuracy: 0.4746\n",
      "Epoch 20/20\n",
      "7/7 [==============================] - 3s 430ms/step - loss: 0.0164 - accuracy: 1.0000 - val_loss: 2.5086 - val_accuracy: 0.4576\n"
     ]
    }
   ],
   "source": [
    "# Starting the model training\n",
    "history = classifier.fit_generator(training_set, epochs=20, \n",
    "                         validation_data=validation_set)"
   ]
  },
  {
   "cell_type": "code",
   "execution_count": 18,
   "id": "b91fb0b2",
   "metadata": {},
   "outputs": [],
   "source": [
    "#Displaying curves of loss and accuracy during training\n",
    "import matplotlib.pyplot as plt\n",
    "acc = history.history['accuracy']\n",
    "val_acc = history.history['val_accuracy']\n",
    "loss = history.history['loss']\n",
    "val_loss = history.history['val_loss']"
   ]
  },
  {
   "cell_type": "code",
   "execution_count": 19,
   "id": "2f4df9f5",
   "metadata": {},
   "outputs": [],
   "source": [
    "epochs = range(1, len(acc) + 1)"
   ]
  },
  {
   "cell_type": "code",
   "execution_count": 20,
   "id": "5e046a29",
   "metadata": {},
   "outputs": [
    {
     "data": {
      "text/plain": [
       "<Figure size 432x288 with 0 Axes>"
      ]
     },
     "execution_count": 20,
     "metadata": {},
     "output_type": "execute_result"
    },
    {
     "data": {
      "image/png": "[encoded data removed]",
      "text/plain": [
       "<Figure size 432x288 with 1 Axes>"
      ]
     },
     "metadata": {
      "needs_background": "light"
     },
     "output_type": "display_data"
    },
    {
     "data": {
      "text/plain": [
       "<Figure size 432x288 with 0 Axes>"
      ]
     },
     "metadata": {},
     "output_type": "display_data"
    }
   ],
   "source": [
    "plt.plot(epochs, acc, 'bo',label='Training acc')\n",
    "plt.plot(epochs, val_acc, 'r', label='Validation acc')\n",
    "plt.title('Training and validation accuracy')\n",
    "plt.legend()\n",
    "plt.figure()\n"
   ]
  },
  {
   "cell_type": "code",
   "execution_count": 21,
   "id": "5c12a8ab",
   "metadata": {},
   "outputs": [
    {
     "data": {
      "image/png": "[encoded data removed]",
      "text/plain": [
       "<Figure size 432x288 with 1 Axes>"
      ]
     },
     "metadata": {
      "needs_background": "light"
     },
     "output_type": "display_data"
    }
   ],
   "source": [
    "plt.plot(epochs, loss, 'bo', label='Training loss')\n",
    "plt.plot(epochs, val_loss, 'r', label='Validation loss')\n",
    "plt.title('Training and validation loss')\n",
    "plt.legend()\n",
    "plt.show()"
   ]
  },
  {
   "cell_type": "code",
   "execution_count": 22,
   "id": "9931383b",
   "metadata": {},
   "outputs": [],
   "source": [
    "#___________________Model 2_____________________\n",
    "# Specifying the folder where images are present\n",
    "TrainingImagePath=\"C:/Users/HP/Desktop/IMARTICUS/DL/FR/Train\"\n",
    "validationImagePath = \"C:/Users/HP/Desktop/IMARTICUS/DL/FR/Validation\"\n"
   ]
  },
  {
   "cell_type": "code",
   "execution_count": 23,
   "id": "e0e306d1",
   "metadata": {},
   "outputs": [],
   "source": [
    "from keras.preprocessing.image import ImageDataGenerator"
   ]
  },
  {
   "cell_type": "code",
   "execution_count": 24,
   "id": "bcda7027",
   "metadata": {},
   "outputs": [],
   "source": [
    "#Adding parameters in the ImageDatagenerator\n",
    "train_datagen = ImageDataGenerator(rescale=1./225, shear_range=0.5, \n",
    "                                   zoom_range=0.5, width_shift_range=0.2,\n",
    "                                   height_shift_range=0.2)\n",
    " "
   ]
  },
  {
   "cell_type": "code",
   "execution_count": 25,
   "id": "f7309aeb",
   "metadata": {},
   "outputs": [],
   "source": [
    "# No transformations are done on the testing images\n",
    "test_datagen = ImageDataGenerator(rescale=1./225)\n",
    " "
   ]
  },
  {
   "cell_type": "code",
   "execution_count": 26,
   "id": "7015b0c1",
   "metadata": {},
   "outputs": [
    {
     "name": "stdout",
     "output_type": "stream",
     "text": [
      "Found 139 images belonging to 11 classes.\n"
     ]
    }
   ],
   "source": [
    "# Generating the Training Data\n",
    "training_set = train_datagen.flow_from_directory(TrainingImagePath,\n",
    "                                                 target_size=(64, 64),\n",
    "                                                 batch_size=20,\n",
    "                                                 class_mode='categorical')"
   ]
  },
  {
   "cell_type": "code",
   "execution_count": 27,
   "id": "c3744daf",
   "metadata": {},
   "outputs": [
    {
     "name": "stdout",
     "output_type": "stream",
     "text": [
      "Found 59 images belonging to 11 classes.\n"
     ]
    }
   ],
   "source": [
    "# Generating the Validation Data\n",
    "validation_set = test_datagen.flow_from_directory(validationImagePath,\n",
    "                                                  target_size=(64, 64),\n",
    "                                                  batch_size=20,\n",
    "                                                  class_mode='categorical')"
   ]
  },
  {
   "cell_type": "code",
   "execution_count": 28,
   "id": "13518f17",
   "metadata": {},
   "outputs": [],
   "source": [
    "'''______________________Create CNN deep learning model'''\n",
    "\n",
    "from keras.models import Sequential\n",
    "from keras.layers import Convolution2D\n",
    "from keras.layers import MaxPool2D\n",
    "from keras.layers import Flatten\n",
    "from keras.layers import Dense"
   ]
  },
  {
   "cell_type": "code",
   "execution_count": 29,
   "id": "9505309b",
   "metadata": {},
   "outputs": [],
   "source": [
    "'''Initializing the Convolutional Neural Network'''\n",
    "classifier= Sequential()"
   ]
  },
  {
   "cell_type": "code",
   "execution_count": 30,
   "id": "7e6e8609",
   "metadata": {},
   "outputs": [],
   "source": [
    " \n",
    "'''Convolution\n",
    "'''\n",
    "classifier.add(Convolution2D(32, kernel_size=(3, 3), input_shape=(64,64,3), activation='relu'))\n",
    " "
   ]
  },
  {
   "cell_type": "code",
   "execution_count": 31,
   "id": "a7fd3cca",
   "metadata": {},
   "outputs": [],
   "source": [
    "'''MAX Pooling'''\n",
    "classifier.add(MaxPool2D(pool_size=(2,2)))"
   ]
  },
  {
   "cell_type": "code",
   "execution_count": 32,
   "id": "bbe8928b",
   "metadata": {},
   "outputs": [],
   "source": [
    "'''ADDITIONAL LAYER of CONVOLUTION for better accuracy '''\n",
    "classifier.add(Convolution2D(64, kernel_size=(3, 3), activation='relu'))\n",
    " "
   ]
  },
  {
   "cell_type": "code",
   "execution_count": 33,
   "id": "2db5af58",
   "metadata": {},
   "outputs": [],
   "source": [
    "classifier.add(MaxPool2D(pool_size=(2,2)))"
   ]
  },
  {
   "cell_type": "code",
   "execution_count": 34,
   "id": "2742ae7f",
   "metadata": {},
   "outputs": [],
   "source": [
    "'''ADDITIONAL LAYER of CONVOLUTION for better accuracy '''\n",
    "classifier.add(Convolution2D(64, kernel_size=(3, 3), activation='relu'))"
   ]
  },
  {
   "cell_type": "code",
   "execution_count": 35,
   "id": "8bd5a8b7",
   "metadata": {},
   "outputs": [],
   "source": [
    " \n",
    "'''FLattening'''\n",
    "classifier.add(Flatten())"
   ]
  },
  {
   "cell_type": "code",
   "execution_count": 36,
   "id": "063ae394",
   "metadata": {},
   "outputs": [],
   "source": [
    " \n",
    "'''Fully Connected Neural Network'''\n",
    "classifier.add(Dense(64, activation='relu')) # hidden layer\n",
    " "
   ]
  },
  {
   "cell_type": "code",
   "execution_count": 37,
   "id": "fb4c905a",
   "metadata": {},
   "outputs": [],
   "source": [
    "classifier.add(Dense(11, activation='softmax')) # output layer\n"
   ]
  },
  {
   "cell_type": "code",
   "execution_count": 39,
   "id": "16d79370",
   "metadata": {},
   "outputs": [
    {
     "name": "stdout",
     "output_type": "stream",
     "text": [
      "Model: \"sequential_2\"\n",
      "_________________________________________________________________\n",
      " Layer (type)                Output Shape              Param #   \n",
      "=================================================================\n",
      " conv2d_3 (Conv2D)           (None, 62, 62, 32)        896       \n",
      "                                                                 \n",
      " max_pooling2d_2 (MaxPooling  (None, 31, 31, 32)       0         \n",
      " 2D)                                                             \n",
      "                                                                 \n",
      " conv2d_4 (Conv2D)           (None, 29, 29, 64)        18496     \n",
      "                                                                 \n",
      " max_pooling2d_3 (MaxPooling  (None, 14, 14, 64)       0         \n",
      " 2D)                                                             \n",
      "                                                                 \n",
      " conv2d_5 (Conv2D)           (None, 12, 12, 64)        36928     \n",
      "                                                                 \n",
      " flatten_1 (Flatten)         (None, 9216)              0         \n",
      "                                                                 \n",
      " dense_2 (Dense)             (None, 64)                589888    \n",
      "                                                                 \n",
      " dense_3 (Dense)             (None, 11)                715       \n",
      "                                                                 \n",
      "=================================================================\n",
      "Total params: 646,923\n",
      "Trainable params: 646,923\n",
      "Non-trainable params: 0\n",
      "_________________________________________________________________\n"
     ]
    }
   ],
   "source": [
    "classifier.summary()"
   ]
  },
  {
   "cell_type": "code",
   "execution_count": 40,
   "id": "9ee5b4ed",
   "metadata": {},
   "outputs": [],
   "source": [
    "'''Compiler'''\n",
    "\n",
    "classifier.compile(loss='categorical_crossentropy', \n",
    "                   optimizer = 'adam', metrics=[\"accuracy\"])"
   ]
  },
  {
   "cell_type": "code",
   "execution_count": 41,
   "id": "ccbcc193",
   "metadata": {},
   "outputs": [
    {
     "name": "stderr",
     "output_type": "stream",
     "text": [
      "C:\\Users\\HP\\AppData\\Local\\Temp\\ipykernel_9688\\2176159273.py:2: UserWarning: `Model.fit_generator` is deprecated and will be removed in a future version. Please use `Model.fit`, which supports generators.\n",
      "  history = classifier.fit_generator(training_set, epochs=100,\n"
     ]
    },
    {
     "name": "stdout",
     "output_type": "stream",
     "text": [
      "Epoch 1/100\n",
      "7/7 [==============================] - 5s 605ms/step - loss: 2.4017 - accuracy: 0.0647 - val_loss: 2.3171 - val_accuracy: 0.1525\n",
      "Epoch 2/100\n",
      "7/7 [==============================] - 3s 481ms/step - loss: 2.3501 - accuracy: 0.1439 - val_loss: 2.3131 - val_accuracy: 0.1525\n",
      "Epoch 3/100\n",
      "7/7 [==============================] - 3s 449ms/step - loss: 2.3383 - accuracy: 0.1439 - val_loss: 2.3092 - val_accuracy: 0.1525\n",
      "Epoch 4/100\n",
      "7/7 [==============================] - 3s 491ms/step - loss: 2.3203 - accuracy: 0.1439 - val_loss: 2.2822 - val_accuracy: 0.1525\n",
      "Epoch 5/100\n",
      "7/7 [==============================] - 4s 517ms/step - loss: 2.3117 - accuracy: 0.1439 - val_loss: 2.2642 - val_accuracy: 0.1525\n",
      "Epoch 6/100\n",
      "7/7 [==============================] - 3s 455ms/step - loss: 2.2879 - accuracy: 0.1439 - val_loss: 2.2356 - val_accuracy: 0.1525\n",
      "Epoch 7/100\n",
      "7/7 [==============================] - 3s 453ms/step - loss: 2.2729 - accuracy: 0.1511 - val_loss: 2.1988 - val_accuracy: 0.2542\n",
      "Epoch 8/100\n",
      "7/7 [==============================] - 3s 467ms/step - loss: 2.2326 - accuracy: 0.1655 - val_loss: 2.1371 - val_accuracy: 0.2203\n",
      "Epoch 9/100\n",
      "7/7 [==============================] - 3s 467ms/step - loss: 2.1983 - accuracy: 0.2014 - val_loss: 2.0803 - val_accuracy: 0.2373\n",
      "Epoch 10/100\n",
      "7/7 [==============================] - 3s 459ms/step - loss: 2.2004 - accuracy: 0.2086 - val_loss: 2.0459 - val_accuracy: 0.3220\n",
      "Epoch 11/100\n",
      "7/7 [==============================] - 3s 452ms/step - loss: 2.1249 - accuracy: 0.2662 - val_loss: 2.1479 - val_accuracy: 0.2712\n",
      "Epoch 12/100\n",
      "7/7 [==============================] - 3s 468ms/step - loss: 2.0832 - accuracy: 0.2734 - val_loss: 1.9222 - val_accuracy: 0.3390\n",
      "Epoch 13/100\n",
      "7/7 [==============================] - 3s 468ms/step - loss: 2.0656 - accuracy: 0.2878 - val_loss: 1.8802 - val_accuracy: 0.3220\n",
      "Epoch 14/100\n",
      "7/7 [==============================] - 3s 460ms/step - loss: 2.0002 - accuracy: 0.3094 - val_loss: 2.4498 - val_accuracy: 0.2542\n",
      "Epoch 15/100\n",
      "7/7 [==============================] - 3s 468ms/step - loss: 1.9698 - accuracy: 0.3237 - val_loss: 1.8601 - val_accuracy: 0.3390\n",
      "Epoch 16/100\n",
      "7/7 [==============================] - 3s 465ms/step - loss: 1.8973 - accuracy: 0.3237 - val_loss: 1.7397 - val_accuracy: 0.4407\n",
      "Epoch 17/100\n",
      "7/7 [==============================] - 3s 445ms/step - loss: 1.8577 - accuracy: 0.4245 - val_loss: 1.8589 - val_accuracy: 0.3559\n",
      "Epoch 18/100\n",
      "7/7 [==============================] - 3s 446ms/step - loss: 1.7828 - accuracy: 0.3741 - val_loss: 1.6799 - val_accuracy: 0.4407\n",
      "Epoch 19/100\n",
      "7/7 [==============================] - 3s 443ms/step - loss: 1.7327 - accuracy: 0.3885 - val_loss: 1.5517 - val_accuracy: 0.4746\n",
      "Epoch 20/100\n",
      "7/7 [==============================] - 3s 469ms/step - loss: 1.6511 - accuracy: 0.4748 - val_loss: 1.5808 - val_accuracy: 0.4576\n",
      "Epoch 21/100\n",
      "7/7 [==============================] - 3s 460ms/step - loss: 1.7332 - accuracy: 0.4676 - val_loss: 1.4592 - val_accuracy: 0.4915\n",
      "Epoch 22/100\n",
      "7/7 [==============================] - 3s 453ms/step - loss: 1.7248 - accuracy: 0.4029 - val_loss: 1.4580 - val_accuracy: 0.5085\n",
      "Epoch 23/100\n",
      "7/7 [==============================] - 3s 439ms/step - loss: 1.5284 - accuracy: 0.5252 - val_loss: 1.4223 - val_accuracy: 0.5763\n",
      "Epoch 24/100\n",
      "7/7 [==============================] - 3s 464ms/step - loss: 1.5341 - accuracy: 0.5180 - val_loss: 1.5070 - val_accuracy: 0.4746\n",
      "Epoch 25/100\n",
      "7/7 [==============================] - 3s 441ms/step - loss: 1.4739 - accuracy: 0.4964 - val_loss: 1.3181 - val_accuracy: 0.5424\n",
      "Epoch 26/100\n",
      "7/7 [==============================] - 3s 468ms/step - loss: 1.5390 - accuracy: 0.5108 - val_loss: 1.6556 - val_accuracy: 0.4237\n",
      "Epoch 27/100\n",
      "7/7 [==============================] - 3s 455ms/step - loss: 1.5203 - accuracy: 0.4964 - val_loss: 1.3031 - val_accuracy: 0.5763\n",
      "Epoch 28/100\n",
      "7/7 [==============================] - 3s 439ms/step - loss: 1.3336 - accuracy: 0.5540 - val_loss: 1.3476 - val_accuracy: 0.5763\n",
      "Epoch 29/100\n",
      "7/7 [==============================] - 3s 463ms/step - loss: 1.3741 - accuracy: 0.5108 - val_loss: 1.3687 - val_accuracy: 0.5085\n",
      "Epoch 30/100\n",
      "7/7 [==============================] - 3s 455ms/step - loss: 1.2110 - accuracy: 0.5540 - val_loss: 1.3204 - val_accuracy: 0.5593\n",
      "Epoch 31/100\n",
      "7/7 [==============================] - 3s 453ms/step - loss: 1.1498 - accuracy: 0.5899 - val_loss: 1.3657 - val_accuracy: 0.5593\n",
      "Epoch 32/100\n",
      "7/7 [==============================] - 3s 455ms/step - loss: 1.1443 - accuracy: 0.5899 - val_loss: 1.2817 - val_accuracy: 0.5763\n",
      "Epoch 33/100\n",
      "7/7 [==============================] - 3s 460ms/step - loss: 1.2920 - accuracy: 0.5683 - val_loss: 1.2792 - val_accuracy: 0.5932\n",
      "Epoch 34/100\n",
      "7/7 [==============================] - 3s 460ms/step - loss: 1.5367 - accuracy: 0.5036 - val_loss: 1.3601 - val_accuracy: 0.5424\n",
      "Epoch 35/100\n",
      "7/7 [==============================] - 3s 455ms/step - loss: 1.5878 - accuracy: 0.4388 - val_loss: 1.4689 - val_accuracy: 0.5593\n",
      "Epoch 36/100\n",
      "7/7 [==============================] - 4s 555ms/step - loss: 1.4104 - accuracy: 0.5180 - val_loss: 1.4744 - val_accuracy: 0.5085\n",
      "Epoch 37/100\n",
      "7/7 [==============================] - 3s 493ms/step - loss: 1.1967 - accuracy: 0.5612 - val_loss: 1.2360 - val_accuracy: 0.5932\n",
      "Epoch 38/100\n",
      "7/7 [==============================] - 3s 483ms/step - loss: 1.1879 - accuracy: 0.5899 - val_loss: 1.3105 - val_accuracy: 0.6271\n",
      "Epoch 39/100\n",
      "7/7 [==============================] - 3s 466ms/step - loss: 1.1608 - accuracy: 0.5899 - val_loss: 1.1774 - val_accuracy: 0.6441\n",
      "Epoch 40/100\n",
      "7/7 [==============================] - 3s 461ms/step - loss: 1.1042 - accuracy: 0.5899 - val_loss: 1.2070 - val_accuracy: 0.6102\n",
      "Epoch 41/100\n",
      "7/7 [==============================] - 3s 446ms/step - loss: 1.1564 - accuracy: 0.5971 - val_loss: 1.1131 - val_accuracy: 0.6780\n",
      "Epoch 42/100\n",
      "7/7 [==============================] - 3s 472ms/step - loss: 1.1241 - accuracy: 0.5755 - val_loss: 1.2430 - val_accuracy: 0.6441\n",
      "Epoch 43/100\n",
      "7/7 [==============================] - 3s 465ms/step - loss: 1.1106 - accuracy: 0.5971 - val_loss: 1.1586 - val_accuracy: 0.6441\n",
      "Epoch 44/100\n",
      "7/7 [==============================] - 3s 446ms/step - loss: 1.0520 - accuracy: 0.6259 - val_loss: 1.0037 - val_accuracy: 0.7458\n",
      "Epoch 45/100\n",
      "7/7 [==============================] - 3s 459ms/step - loss: 1.0330 - accuracy: 0.6403 - val_loss: 1.0839 - val_accuracy: 0.6441\n",
      "Epoch 46/100\n",
      "7/7 [==============================] - 3s 482ms/step - loss: 0.9400 - accuracy: 0.6978 - val_loss: 1.0954 - val_accuracy: 0.6780\n",
      "Epoch 47/100\n",
      "7/7 [==============================] - 3s 465ms/step - loss: 1.0525 - accuracy: 0.6187 - val_loss: 1.0120 - val_accuracy: 0.6780\n",
      "Epoch 48/100\n",
      "7/7 [==============================] - 3s 470ms/step - loss: 0.8431 - accuracy: 0.7050 - val_loss: 1.4013 - val_accuracy: 0.5424\n",
      "Epoch 49/100\n",
      "7/7 [==============================] - 3s 470ms/step - loss: 0.9879 - accuracy: 0.6475 - val_loss: 0.9075 - val_accuracy: 0.7119\n",
      "Epoch 50/100\n",
      "7/7 [==============================] - 3s 473ms/step - loss: 1.0149 - accuracy: 0.7122 - val_loss: 1.0515 - val_accuracy: 0.6780\n",
      "Epoch 51/100\n",
      "7/7 [==============================] - 3s 454ms/step - loss: 0.8489 - accuracy: 0.7122 - val_loss: 1.3082 - val_accuracy: 0.6610\n",
      "Epoch 52/100\n",
      "7/7 [==============================] - 3s 455ms/step - loss: 0.8718 - accuracy: 0.6835 - val_loss: 0.8959 - val_accuracy: 0.7119\n",
      "Epoch 53/100\n",
      "7/7 [==============================] - 3s 458ms/step - loss: 0.9808 - accuracy: 0.6403 - val_loss: 1.2062 - val_accuracy: 0.6949\n",
      "Epoch 54/100\n",
      "7/7 [==============================] - 3s 450ms/step - loss: 0.8344 - accuracy: 0.6978 - val_loss: 0.8048 - val_accuracy: 0.7119\n",
      "Epoch 55/100\n",
      "7/7 [==============================] - 3s 445ms/step - loss: 0.8168 - accuracy: 0.7194 - val_loss: 1.0185 - val_accuracy: 0.7458\n",
      "Epoch 56/100\n",
      "7/7 [==============================] - 3s 458ms/step - loss: 0.9314 - accuracy: 0.7050 - val_loss: 0.7790 - val_accuracy: 0.7288\n",
      "Epoch 57/100\n",
      "7/7 [==============================] - 3s 464ms/step - loss: 0.8243 - accuracy: 0.7050 - val_loss: 0.8265 - val_accuracy: 0.7627\n",
      "Epoch 58/100\n",
      "7/7 [==============================] - 3s 458ms/step - loss: 0.8152 - accuracy: 0.7410 - val_loss: 1.0742 - val_accuracy: 0.6949\n",
      "Epoch 59/100\n",
      "7/7 [==============================] - 3s 453ms/step - loss: 0.9013 - accuracy: 0.7050 - val_loss: 0.8602 - val_accuracy: 0.6780\n",
      "Epoch 60/100\n",
      "7/7 [==============================] - 3s 459ms/step - loss: 0.8441 - accuracy: 0.7410 - val_loss: 1.0956 - val_accuracy: 0.6780\n",
      "Epoch 61/100\n",
      "7/7 [==============================] - 3s 454ms/step - loss: 0.7962 - accuracy: 0.7050 - val_loss: 0.9427 - val_accuracy: 0.6949\n",
      "Epoch 62/100\n",
      "7/7 [==============================] - 4s 552ms/step - loss: 0.6431 - accuracy: 0.7842 - val_loss: 0.9790 - val_accuracy: 0.7119\n",
      "Epoch 63/100\n",
      "7/7 [==============================] - 4s 552ms/step - loss: 0.7991 - accuracy: 0.7266 - val_loss: 0.9442 - val_accuracy: 0.7119\n",
      "Epoch 64/100\n",
      "7/7 [==============================] - 3s 464ms/step - loss: 0.7328 - accuracy: 0.7338 - val_loss: 1.0765 - val_accuracy: 0.7119\n",
      "Epoch 65/100\n",
      "7/7 [==============================] - 3s 465ms/step - loss: 0.7481 - accuracy: 0.7338 - val_loss: 1.0180 - val_accuracy: 0.7288\n",
      "Epoch 66/100\n",
      "7/7 [==============================] - 3s 456ms/step - loss: 0.8810 - accuracy: 0.7410 - val_loss: 0.8348 - val_accuracy: 0.7119\n",
      "Epoch 67/100\n",
      "7/7 [==============================] - 3s 463ms/step - loss: 0.8433 - accuracy: 0.7122 - val_loss: 0.9222 - val_accuracy: 0.7458\n",
      "Epoch 68/100\n",
      "7/7 [==============================] - 3s 452ms/step - loss: 0.8300 - accuracy: 0.7266 - val_loss: 0.8960 - val_accuracy: 0.7458\n",
      "Epoch 69/100\n",
      "7/7 [==============================] - 3s 447ms/step - loss: 0.8913 - accuracy: 0.6906 - val_loss: 0.8753 - val_accuracy: 0.7288\n",
      "Epoch 70/100\n",
      "7/7 [==============================] - 3s 456ms/step - loss: 0.7822 - accuracy: 0.7410 - val_loss: 1.0549 - val_accuracy: 0.6949\n",
      "Epoch 71/100\n",
      "7/7 [==============================] - 3s 487ms/step - loss: 0.6821 - accuracy: 0.7554 - val_loss: 0.9024 - val_accuracy: 0.7458\n",
      "Epoch 72/100\n",
      "7/7 [==============================] - 3s 452ms/step - loss: 0.6498 - accuracy: 0.7626 - val_loss: 0.7641 - val_accuracy: 0.8136\n",
      "Epoch 73/100\n",
      "7/7 [==============================] - 3s 453ms/step - loss: 0.7360 - accuracy: 0.7554 - val_loss: 0.7621 - val_accuracy: 0.7966\n",
      "Epoch 74/100\n",
      "7/7 [==============================] - 3s 516ms/step - loss: 0.6336 - accuracy: 0.7842 - val_loss: 0.9344 - val_accuracy: 0.7627\n",
      "Epoch 75/100\n",
      "7/7 [==============================] - 3s 454ms/step - loss: 0.7300 - accuracy: 0.7770 - val_loss: 0.8796 - val_accuracy: 0.7119\n",
      "Epoch 76/100\n",
      "7/7 [==============================] - 3s 463ms/step - loss: 0.6157 - accuracy: 0.7698 - val_loss: 1.0134 - val_accuracy: 0.7458\n",
      "Epoch 77/100\n",
      "7/7 [==============================] - 3s 449ms/step - loss: 0.5894 - accuracy: 0.7986 - val_loss: 0.9098 - val_accuracy: 0.7458\n",
      "Epoch 78/100\n",
      "7/7 [==============================] - 3s 452ms/step - loss: 0.4450 - accuracy: 0.8633 - val_loss: 0.9720 - val_accuracy: 0.7797\n",
      "Epoch 79/100\n",
      "7/7 [==============================] - 3s 454ms/step - loss: 0.4500 - accuracy: 0.8417 - val_loss: 0.8006 - val_accuracy: 0.7966\n",
      "Epoch 80/100\n",
      "7/7 [==============================] - 3s 465ms/step - loss: 0.5862 - accuracy: 0.7986 - val_loss: 1.0442 - val_accuracy: 0.7966\n",
      "Epoch 81/100\n",
      "7/7 [==============================] - 3s 473ms/step - loss: 0.5370 - accuracy: 0.7698 - val_loss: 0.7743 - val_accuracy: 0.7966\n",
      "Epoch 82/100\n",
      "7/7 [==============================] - 4s 528ms/step - loss: 0.4776 - accuracy: 0.8345 - val_loss: 0.8631 - val_accuracy: 0.7797\n",
      "Epoch 83/100\n",
      "7/7 [==============================] - 3s 443ms/step - loss: 0.6217 - accuracy: 0.7986 - val_loss: 0.8365 - val_accuracy: 0.7966\n",
      "Epoch 84/100\n",
      "7/7 [==============================] - 3s 457ms/step - loss: 0.6827 - accuracy: 0.8058 - val_loss: 0.8107 - val_accuracy: 0.8305\n",
      "Epoch 85/100\n",
      "7/7 [==============================] - 3s 465ms/step - loss: 0.4927 - accuracy: 0.8273 - val_loss: 0.8004 - val_accuracy: 0.7966\n",
      "Epoch 86/100\n",
      "7/7 [==============================] - 3s 464ms/step - loss: 0.6052 - accuracy: 0.7986 - val_loss: 0.6689 - val_accuracy: 0.8475\n",
      "Epoch 87/100\n",
      "7/7 [==============================] - 3s 460ms/step - loss: 0.4126 - accuracy: 0.8921 - val_loss: 0.7648 - val_accuracy: 0.7797\n",
      "Epoch 88/100\n",
      "7/7 [==============================] - 3s 458ms/step - loss: 0.6197 - accuracy: 0.7842 - val_loss: 0.6804 - val_accuracy: 0.8136\n",
      "Epoch 89/100\n",
      "7/7 [==============================] - 3s 498ms/step - loss: 0.6331 - accuracy: 0.7770 - val_loss: 0.6770 - val_accuracy: 0.8305\n",
      "Epoch 90/100\n",
      "7/7 [==============================] - 3s 464ms/step - loss: 0.4790 - accuracy: 0.8633 - val_loss: 1.0272 - val_accuracy: 0.7627\n",
      "Epoch 91/100\n",
      "7/7 [==============================] - 3s 455ms/step - loss: 0.6196 - accuracy: 0.7770 - val_loss: 0.5898 - val_accuracy: 0.8136\n",
      "Epoch 92/100\n",
      "7/7 [==============================] - 3s 452ms/step - loss: 0.6255 - accuracy: 0.8345 - val_loss: 0.8685 - val_accuracy: 0.8305\n",
      "Epoch 93/100\n",
      "7/7 [==============================] - 3s 457ms/step - loss: 0.5772 - accuracy: 0.8129 - val_loss: 0.8628 - val_accuracy: 0.7797\n",
      "Epoch 94/100\n",
      "7/7 [==============================] - 3s 464ms/step - loss: 0.4560 - accuracy: 0.8345 - val_loss: 0.4895 - val_accuracy: 0.8305\n",
      "Epoch 95/100\n",
      "7/7 [==============================] - 3s 468ms/step - loss: 0.5075 - accuracy: 0.7986 - val_loss: 1.3703 - val_accuracy: 0.7458\n",
      "Epoch 96/100\n",
      "7/7 [==============================] - 3s 446ms/step - loss: 0.4840 - accuracy: 0.8561 - val_loss: 0.6347 - val_accuracy: 0.7966\n",
      "Epoch 97/100\n",
      "7/7 [==============================] - 3s 457ms/step - loss: 0.5629 - accuracy: 0.8201 - val_loss: 0.6734 - val_accuracy: 0.7797\n",
      "Epoch 98/100\n",
      "7/7 [==============================] - 3s 455ms/step - loss: 0.4315 - accuracy: 0.8417 - val_loss: 0.8140 - val_accuracy: 0.7627\n",
      "Epoch 99/100\n",
      "7/7 [==============================] - 3s 484ms/step - loss: 0.6552 - accuracy: 0.7482 - val_loss: 0.8903 - val_accuracy: 0.7627\n",
      "Epoch 100/100\n",
      "7/7 [==============================] - 3s 459ms/step - loss: 0.5785 - accuracy: 0.7842 - val_loss: 0.9235 - val_accuracy: 0.7966\n"
     ]
    }
   ],
   "source": [
    "# Starting the model training\n",
    "history = classifier.fit_generator(training_set, epochs=100, \n",
    "                         validation_data=validation_set)"
   ]
  },
  {
   "cell_type": "code",
   "execution_count": 42,
   "id": "26cc9676",
   "metadata": {},
   "outputs": [],
   "source": [
    "#Displaying curves of loss and accuracy during training\n",
    "import matplotlib.pyplot as plt\n",
    "acc = history.history['accuracy']\n",
    "val_acc = history.history['val_accuracy']\n",
    "loss = history.history['loss']\n",
    "val_loss = history.history['val_loss']\n"
   ]
  },
  {
   "cell_type": "code",
   "execution_count": 43,
   "id": "f848cb18",
   "metadata": {},
   "outputs": [],
   "source": [
    "epochs = range(1, len(acc) + 1)"
   ]
  },
  {
   "cell_type": "code",
   "execution_count": 44,
   "id": "99806c9a",
   "metadata": {},
   "outputs": [
    {
     "data": {
      "text/plain": [
       "<Figure size 432x288 with 0 Axes>"
      ]
     },
     "execution_count": 44,
     "metadata": {},
     "output_type": "execute_result"
    },
    {
     "data": {
      "image/png": "[encoded data removed]",
      "text/plain": [
       "<Figure size 432x288 with 1 Axes>"
      ]
     },
     "metadata": {
      "needs_background": "light"
     },
     "output_type": "display_data"
    },
    {
     "data": {
      "text/plain": [
       "<Figure size 432x288 with 0 Axes>"
      ]
     },
     "metadata": {},
     "output_type": "display_data"
    }
   ],
   "source": [
    "plt.plot(epochs, acc, 'bo',label='Training acc')\n",
    "plt.plot(epochs, val_acc, 'g', label='Validation acc')\n",
    "plt.title('Training and validation accuracy')\n",
    "plt.legend()\n",
    "plt.figure()"
   ]
  },
  {
   "cell_type": "code",
   "execution_count": 45,
   "id": "b42050c6",
   "metadata": {},
   "outputs": [
    {
     "data": {
      "image/png": "[encoded data removed]",
      "text/plain": [
       "<Figure size 432x288 with 1 Axes>"
      ]
     },
     "metadata": {
      "needs_background": "light"
     },
     "output_type": "display_data"
    }
   ],
   "source": [
    "plt.plot(epochs, loss, 'bo', label='Training loss')\n",
    "plt.plot(epochs, val_loss, 'g', label='Validation loss')\n",
    "plt.title('Training and validation loss')\n",
    "plt.legend()\n",
    "plt.show()"
   ]
  },
  {
   "cell_type": "code",
   "execution_count": 46,
   "id": "e6fc30df",
   "metadata": {},
   "outputs": [],
   "source": [
    "#___________________Pretrained model\n",
    "\n",
    "#Instantiating the VGG16 convolutional base\n",
    "# ImageNet dataset (1.4 million labeled images and 1,000 different classes\n",
    "from keras.applications import VGG16\n"
   ]
  },
  {
   "cell_type": "code",
   "execution_count": 47,
   "id": "6d00d806",
   "metadata": {},
   "outputs": [
    {
     "name": "stdout",
     "output_type": "stream",
     "text": [
      "Downloading data from https://storage.googleapis.com/tensorflow/keras-applications/vgg16/vgg16_weights_tf_dim_ordering_tf_kernels_notop.h5\n",
      "58889256/58889256 [==============================] - 9s 0us/step\n"
     ]
    }
   ],
   "source": [
    "conv_base = VGG16(weights='imagenet', include_top=False,\n",
    "                  input_shape=(150, 150, 3))\n"
   ]
  },
  {
   "cell_type": "code",
   "execution_count": 48,
   "id": "f2c48bd5",
   "metadata": {},
   "outputs": [
    {
     "name": "stdout",
     "output_type": "stream",
     "text": [
      "Model: \"vgg16\"\n",
      "_________________________________________________________________\n",
      " Layer (type)                Output Shape              Param #   \n",
      "=================================================================\n",
      " input_1 (InputLayer)        [(None, 150, 150, 3)]     0         \n",
      "                                                                 \n",
      " block1_conv1 (Conv2D)       (None, 150, 150, 64)      1792      \n",
      "                                                                 \n",
      " block1_conv2 (Conv2D)       (None, 150, 150, 64)      36928     \n",
      "                                                                 \n",
      " block1_pool (MaxPooling2D)  (None, 75, 75, 64)        0         \n",
      "                                                                 \n",
      " block2_conv1 (Conv2D)       (None, 75, 75, 128)       73856     \n",
      "                                                                 \n",
      " block2_conv2 (Conv2D)       (None, 75, 75, 128)       147584    \n",
      "                                                                 \n",
      " block2_pool (MaxPooling2D)  (None, 37, 37, 128)       0         \n",
      "                                                                 \n",
      " block3_conv1 (Conv2D)       (None, 37, 37, 256)       295168    \n",
      "                                                                 \n",
      " block3_conv2 (Conv2D)       (None, 37, 37, 256)       590080    \n",
      "                                                                 \n",
      " block3_conv3 (Conv2D)       (None, 37, 37, 256)       590080    \n",
      "                                                                 \n",
      " block3_pool (MaxPooling2D)  (None, 18, 18, 256)       0         \n",
      "                                                                 \n",
      " block4_conv1 (Conv2D)       (None, 18, 18, 512)       1180160   \n",
      "                                                                 \n",
      " block4_conv2 (Conv2D)       (None, 18, 18, 512)       2359808   \n",
      "                                                                 \n",
      " block4_conv3 (Conv2D)       (None, 18, 18, 512)       2359808   \n",
      "                                                                 \n",
      " block4_pool (MaxPooling2D)  (None, 9, 9, 512)         0         \n",
      "                                                                 \n",
      " block5_conv1 (Conv2D)       (None, 9, 9, 512)         2359808   \n",
      "                                                                 \n",
      " block5_conv2 (Conv2D)       (None, 9, 9, 512)         2359808   \n",
      "                                                                 \n",
      " block5_conv3 (Conv2D)       (None, 9, 9, 512)         2359808   \n",
      "                                                                 \n",
      " block5_pool (MaxPooling2D)  (None, 4, 4, 512)         0         \n",
      "                                                                 \n",
      "=================================================================\n",
      "Total params: 14,714,688\n",
      "Trainable params: 14,714,688\n",
      "Non-trainable params: 0\n",
      "_________________________________________________________________\n"
     ]
    }
   ],
   "source": [
    "conv_base.summary()"
   ]
  },
  {
   "cell_type": "code",
   "execution_count": 49,
   "id": "b5bb2f7c",
   "metadata": {},
   "outputs": [],
   "source": [
    "#Extracting features using the pretrained convolutional base\n",
    "import numpy as np\n",
    "from keras.preprocessing.image import ImageDataGenerator"
   ]
  },
  {
   "cell_type": "code",
   "execution_count": 69,
   "id": "8b477ec9",
   "metadata": {},
   "outputs": [],
   "source": [
    "# Specifying the folder where images are present\n",
    "TrainingImagePath=\"C:/Users/HP/Desktop/IMARTICUS/DL/FR/Train\"\n",
    "validationImagePath = \"C:/Users/HP/Desktop/IMARTICUS/DL/FR/Validation\"\n"
   ]
  },
  {
   "cell_type": "code",
   "execution_count": 70,
   "id": "df7adc81",
   "metadata": {},
   "outputs": [],
   "source": [
    "datagen = ImageDataGenerator(rescale=1./255)\n"
   ]
  },
  {
   "cell_type": "code",
   "execution_count": 71,
   "id": "b8e63787",
   "metadata": {},
   "outputs": [],
   "source": [
    "batch_size = 20\n"
   ]
  },
  {
   "cell_type": "code",
   "execution_count": 72,
   "id": "bdc5f6dc",
   "metadata": {},
   "outputs": [],
   "source": [
    "def extract_features(directory, sample_count):\n",
    "    features = np.zeros(shape=(sample_count, 4, 4, 512))\n",
    "    labels = np.zeros(shape=(sample_count))\n",
    "    generator = datagen.flow_from_directory(directory, target_size=(150, 150),\n",
    "                                            batch_size=batch_size,\n",
    "                                            class_mode='binary')\n",
    "    i=0\n",
    "    for inputs_batch, labels_batch in generator:\n",
    "        features_batch = conv_base.predict(inputs_batch)\n",
    "        features[i * batch_size : (i + 1) * batch_size] = features_batch\n",
    "        labels[i * batch_size : (i + 1) * batch_size] = labels_batch\n",
    "        i += 1\n",
    "        if i * batch_size >= sample_count:\n",
    "            break\n",
    "    return features, labels\n"
   ]
  },
  {
   "cell_type": "code",
   "execution_count": 73,
   "id": "aeb8c282",
   "metadata": {},
   "outputs": [
    {
     "data": {
      "text/plain": [
       "'Note that because generators yield data indefinitely in a loop, you must \\nbreak after every image has been seen once.'"
      ]
     },
     "execution_count": 73,
     "metadata": {},
     "output_type": "execute_result"
    }
   ],
   "source": [
    "'''Note that because generators yield data indefinitely in a loop, you must \n",
    "break after every image has been seen once.'''\n"
   ]
  },
  {
   "cell_type": "code",
   "execution_count": 74,
   "id": "c9321a73",
   "metadata": {},
   "outputs": [
    {
     "name": "stdout",
     "output_type": "stream",
     "text": [
      "Found 139 images belonging to 11 classes.\n",
      "1/1 [==============================] - 2s 2s/step\n",
      "1/1 [==============================] - 2s 2s/step\n",
      "1/1 [==============================] - 2s 2s/step\n",
      "1/1 [==============================] - 2s 2s/step\n",
      "1/1 [==============================] - 2s 2s/step\n",
      "1/1 [==============================] - 2s 2s/step\n",
      "1/1 [==============================] - 2s 2s/step\n"
     ]
    }
   ],
   "source": [
    "\n",
    "#Following three codes takes few minutes each as it is converting images into\n",
    "#arrays\n",
    "train_features, train_labels = extract_features(TrainingImagePath, 139)"
   ]
  },
  {
   "cell_type": "code",
   "execution_count": 75,
   "id": "44b53f7f",
   "metadata": {},
   "outputs": [
    {
     "name": "stdout",
     "output_type": "stream",
     "text": [
      "Found 59 images belonging to 11 classes.\n",
      "1/1 [==============================] - 2s 2s/step\n",
      "1/1 [==============================] - 2s 2s/step\n",
      "1/1 [==============================] - 2s 2s/step\n"
     ]
    }
   ],
   "source": [
    "validation_features, validation_labels = extract_features(validationImagePath, 59)"
   ]
  },
  {
   "cell_type": "code",
   "execution_count": 101,
   "id": "24654419",
   "metadata": {},
   "outputs": [
    {
     "data": {
      "text/plain": [
       "(139, 4, 4, 512)"
      ]
     },
     "execution_count": 101,
     "metadata": {},
     "output_type": "execute_result"
    }
   ],
   "source": [
    "train_features.shape\n"
   ]
  },
  {
   "cell_type": "code",
   "execution_count": 102,
   "id": "09dcb555",
   "metadata": {},
   "outputs": [],
   "source": [
    "train_features = np.reshape(train_features, (139, 4*4* 512))\n"
   ]
  },
  {
   "cell_type": "code",
   "execution_count": 103,
   "id": "968a2a49",
   "metadata": {},
   "outputs": [
    {
     "data": {
      "text/plain": [
       "(139, 8192)"
      ]
     },
     "execution_count": 103,
     "metadata": {},
     "output_type": "execute_result"
    }
   ],
   "source": [
    "train_features.shape "
   ]
  },
  {
   "cell_type": "code",
   "execution_count": 104,
   "id": "04833e4d",
   "metadata": {},
   "outputs": [
    {
     "data": {
      "text/plain": [
       "(59, 8192)"
      ]
     },
     "execution_count": 104,
     "metadata": {},
     "output_type": "execute_result"
    }
   ],
   "source": [
    "validation_features.shape"
   ]
  },
  {
   "cell_type": "code",
   "execution_count": 105,
   "id": "c1724670",
   "metadata": {},
   "outputs": [],
   "source": [
    "validation_features = np.reshape(validation_features, (59, 4*4* 512))"
   ]
  },
  {
   "cell_type": "code",
   "execution_count": 106,
   "id": "c95c4765",
   "metadata": {},
   "outputs": [
    {
     "data": {
      "text/plain": [
       "(59, 8192)"
      ]
     },
     "execution_count": 106,
     "metadata": {},
     "output_type": "execute_result"
    }
   ],
   "source": [
    "validation_features.shape"
   ]
  },
  {
   "cell_type": "code",
   "execution_count": 107,
   "id": "b624c02e",
   "metadata": {},
   "outputs": [
    {
     "data": {
      "text/plain": [
       "(139, 11)"
      ]
     },
     "execution_count": 107,
     "metadata": {},
     "output_type": "execute_result"
    }
   ],
   "source": [
    "#Preparing the response data\n",
    "train_labels.shape #139,\n",
    "from keras.utils import to_categorical\n",
    "train_labels_cat = to_categorical(train_labels)\n",
    "train_labels_cat.shape #139, 11"
   ]
  },
  {
   "cell_type": "code",
   "execution_count": 108,
   "id": "29827b99",
   "metadata": {},
   "outputs": [
    {
     "data": {
      "text/plain": [
       "(59, 11)"
      ]
     },
     "execution_count": 108,
     "metadata": {},
     "output_type": "execute_result"
    }
   ],
   "source": [
    "validation_labels.shape #59,\n",
    "valid_labels_cat = to_categorical(validation_labels)\n",
    "valid_labels_cat.shape #59, 11"
   ]
  },
  {
   "cell_type": "code",
   "execution_count": 109,
   "id": "42c21bf5",
   "metadata": {},
   "outputs": [],
   "source": [
    "#Defining and training the densely connected classifier\n",
    "from keras import models\n",
    "from keras import layers\n",
    "from keras import optimizers\n",
    "model = models.Sequential()\n",
    "model.add(layers.Dense(256, activation='relu', input_dim=4 * 4 * 512))\n",
    "model.add(layers.Dropout(0.5))\n",
    "model.add(layers.Dense(11, activation='softmax'))\n",
    "model.compile(optimizer='adam',loss='categorical_crossentropy',metrics=['acc']) #'''Compiling the CNN'''\n"
   ]
  },
  {
   "cell_type": "code",
   "execution_count": 110,
   "id": "a3e1fa91",
   "metadata": {},
   "outputs": [
    {
     "name": "stdout",
     "output_type": "stream",
     "text": [
      "Epoch 1/30\n",
      "7/7 [==============================] - 1s 89ms/step - loss: 2.7526 - acc: 0.2302 - val_loss: 1.6378 - val_acc: 0.4746\n",
      "Epoch 2/30\n",
      "7/7 [==============================] - 0s 27ms/step - loss: 1.4117 - acc: 0.6187 - val_loss: 1.2280 - val_acc: 0.6271\n",
      "Epoch 3/30\n",
      "7/7 [==============================] - 0s 26ms/step - loss: 0.8330 - acc: 0.6906 - val_loss: 0.7616 - val_acc: 0.8136\n",
      "Epoch 4/30\n",
      "7/7 [==============================] - 0s 21ms/step - loss: 0.5242 - acc: 0.8417 - val_loss: 0.6192 - val_acc: 0.7966\n",
      "Epoch 5/30\n",
      "7/7 [==============================] - 0s 21ms/step - loss: 0.2830 - acc: 0.9496 - val_loss: 0.5372 - val_acc: 0.8475\n",
      "Epoch 6/30\n",
      "7/7 [==============================] - 0s 19ms/step - loss: 0.2095 - acc: 0.9568 - val_loss: 0.4751 - val_acc: 0.8136\n",
      "Epoch 7/30\n",
      "7/7 [==============================] - 0s 20ms/step - loss: 0.1702 - acc: 0.9424 - val_loss: 0.4182 - val_acc: 0.8475\n",
      "Epoch 8/30\n",
      "7/7 [==============================] - 0s 20ms/step - loss: 0.1015 - acc: 0.9856 - val_loss: 0.4023 - val_acc: 0.8644\n",
      "Epoch 9/30\n",
      "7/7 [==============================] - 0s 21ms/step - loss: 0.0886 - acc: 0.9784 - val_loss: 0.3882 - val_acc: 0.8644\n",
      "Epoch 10/30\n",
      "7/7 [==============================] - 0s 20ms/step - loss: 0.0954 - acc: 0.9856 - val_loss: 0.3414 - val_acc: 0.8983\n",
      "Epoch 11/30\n",
      "7/7 [==============================] - 0s 22ms/step - loss: 0.0585 - acc: 0.9928 - val_loss: 0.2869 - val_acc: 0.9492\n",
      "Epoch 12/30\n",
      "7/7 [==============================] - 0s 19ms/step - loss: 0.0591 - acc: 0.9928 - val_loss: 0.3142 - val_acc: 0.8644\n",
      "Epoch 13/30\n",
      "7/7 [==============================] - 0s 20ms/step - loss: 0.0479 - acc: 1.0000 - val_loss: 0.3544 - val_acc: 0.8644\n",
      "Epoch 14/30\n",
      "7/7 [==============================] - 0s 20ms/step - loss: 0.0413 - acc: 0.9928 - val_loss: 0.3834 - val_acc: 0.8814\n",
      "Epoch 15/30\n",
      "7/7 [==============================] - 0s 20ms/step - loss: 0.0492 - acc: 0.9928 - val_loss: 0.3985 - val_acc: 0.8814\n",
      "Epoch 16/30\n",
      "7/7 [==============================] - 0s 19ms/step - loss: 0.0321 - acc: 1.0000 - val_loss: 0.3624 - val_acc: 0.8983\n",
      "Epoch 17/30\n",
      "7/7 [==============================] - 0s 24ms/step - loss: 0.0194 - acc: 1.0000 - val_loss: 0.3234 - val_acc: 0.8814\n",
      "Epoch 18/30\n",
      "7/7 [==============================] - 0s 20ms/step - loss: 0.0219 - acc: 1.0000 - val_loss: 0.2796 - val_acc: 0.8983\n",
      "Epoch 19/30\n",
      "7/7 [==============================] - 0s 20ms/step - loss: 0.0153 - acc: 1.0000 - val_loss: 0.2761 - val_acc: 0.8983\n",
      "Epoch 20/30\n",
      "7/7 [==============================] - 0s 20ms/step - loss: 0.0146 - acc: 1.0000 - val_loss: 0.2509 - val_acc: 0.9153\n",
      "Epoch 21/30\n",
      "7/7 [==============================] - 0s 20ms/step - loss: 0.0231 - acc: 0.9928 - val_loss: 0.2871 - val_acc: 0.8983\n",
      "Epoch 22/30\n",
      "7/7 [==============================] - 0s 19ms/step - loss: 0.0218 - acc: 1.0000 - val_loss: 0.2953 - val_acc: 0.8814\n",
      "Epoch 23/30\n",
      "7/7 [==============================] - 0s 21ms/step - loss: 0.0138 - acc: 1.0000 - val_loss: 0.2537 - val_acc: 0.8983\n",
      "Epoch 24/30\n",
      "7/7 [==============================] - 0s 19ms/step - loss: 0.0159 - acc: 1.0000 - val_loss: 0.2406 - val_acc: 0.8983\n",
      "Epoch 25/30\n",
      "7/7 [==============================] - 0s 20ms/step - loss: 0.0097 - acc: 1.0000 - val_loss: 0.2704 - val_acc: 0.9322\n",
      "Epoch 26/30\n",
      "7/7 [==============================] - 0s 19ms/step - loss: 0.0088 - acc: 1.0000 - val_loss: 0.3138 - val_acc: 0.8983\n",
      "Epoch 27/30\n",
      "7/7 [==============================] - 0s 19ms/step - loss: 0.0173 - acc: 1.0000 - val_loss: 0.2628 - val_acc: 0.8983\n",
      "Epoch 28/30\n",
      "7/7 [==============================] - 0s 21ms/step - loss: 0.0082 - acc: 1.0000 - val_loss: 0.2689 - val_acc: 0.8983\n",
      "Epoch 29/30\n",
      "7/7 [==============================] - 0s 19ms/step - loss: 0.0123 - acc: 1.0000 - val_loss: 0.2546 - val_acc: 0.9153\n",
      "Epoch 30/30\n",
      "7/7 [==============================] - 0s 20ms/step - loss: 0.0064 - acc: 1.0000 - val_loss: 0.2499 - val_acc: 0.9153\n"
     ]
    }
   ],
   "source": [
    "history = model.fit(train_features, train_labels_cat,epochs=30,batch_size=20,\n",
    "                    validation_data=(validation_features, valid_labels_cat))\n"
   ]
  },
  {
   "cell_type": "code",
   "execution_count": 111,
   "id": "8c131092",
   "metadata": {},
   "outputs": [],
   "source": [
    "\n",
    "#Plotting the results\n",
    "import matplotlib.pyplot as plt\n",
    "acc = history.history['acc']\n",
    "val_acc = history.history['val_acc']\n",
    "loss = history.history['loss']\n",
    "val_loss = history.history['val_loss']\n"
   ]
  },
  {
   "cell_type": "code",
   "execution_count": 112,
   "id": "d51c577c",
   "metadata": {},
   "outputs": [],
   "source": [
    "epochs = range(1, len(acc) + 1)\n"
   ]
  },
  {
   "cell_type": "code",
   "execution_count": 113,
   "id": "22f2205c",
   "metadata": {},
   "outputs": [
    {
     "data": {
      "text/plain": [
       "<Figure size 432x288 with 0 Axes>"
      ]
     },
     "execution_count": 113,
     "metadata": {},
     "output_type": "execute_result"
    },
    {
     "data": {
      "image/png": "[encoded data removed]",
      "text/plain": [
       "<Figure size 432x288 with 1 Axes>"
      ]
     },
     "metadata": {
      "needs_background": "light"
     },
     "output_type": "display_data"
    },
    {
     "data": {
      "text/plain": [
       "<Figure size 432x288 with 0 Axes>"
      ]
     },
     "metadata": {},
     "output_type": "display_data"
    }
   ],
   "source": [
    "plt.plot(epochs, acc, 'bo', label='Training acc')\n",
    "plt.plot(epochs, val_acc, 'r', label='Validation acc')\n",
    "plt.title('Training and validation accuracy')\n",
    "plt.legend()\n",
    "plt.figure()"
   ]
  },
  {
   "cell_type": "code",
   "execution_count": 114,
   "id": "2890e72c",
   "metadata": {},
   "outputs": [
    {
     "data": {
      "image/png": "[encoded data removed]",
      "text/plain": [
       "<Figure size 432x288 with 1 Axes>"
      ]
     },
     "metadata": {
      "needs_background": "light"
     },
     "output_type": "display_data"
    }
   ],
   "source": [
    "plt.plot(epochs, loss, 'bo', label='Training loss')\n",
    "plt.plot(epochs, val_loss, 'r', label='Validation loss')\n",
    "plt.title('Training and validation loss')\n",
    "plt.legend()\n",
    "plt.show()\n"
   ]
  },
  {
   "cell_type": "code",
   "execution_count": null,
   "id": "ea89a44b",
   "metadata": {},
   "outputs": [],
   "source": []
  }
 ],
 "metadata": {
  "kernelspec": {
   "display_name": "Python 3 (ipykernel)",
   "language": "python",
   "name": "python3"
  },
  "language_info": {
   "codemirror_mode": {
    "name": "ipython",
    "version": 3
   },
   "file_extension": ".py",
   "mimetype": "text/x-python",
   "name": "python",
   "nbconvert_exporter": "python",
   "pygments_lexer": "ipython3",
   "version": "3.9.12"
  }
 },
 "nbformat": 4,
 "nbformat_minor": 5
}
